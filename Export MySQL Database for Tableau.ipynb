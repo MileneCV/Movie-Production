{
 "cells": [
  {
   "cell_type": "markdown",
   "id": "8bbb92b6",
   "metadata": {},
   "source": [
    "Export MySQL Database for Tableau\n",
    "# Instructions:\n",
    "Update the variables in the \"🎛️ Update These Variables\" section below, and then click on the Kernel menu, and select Restart and Run All.\n",
    "\n",
    "Pay attention to the print\n",
    "\n",
    "# Update These Variables\n",
    "You must update the following variables:\n",
    "\n",
    "DB_NAME: Then name of the database. (Most likely \"movies\").\n",
    "\n",
    "MYSQL_LOGIN: the filepath to the json file with your mysql username and password.\n",
    "\n",
    "Note: if you have not saved your mysql credentials to a json file in your .secret folder yet, we strongly suggest you do so now.\n",
    "\n",
    "Change USER_KEY to be the correct key from your json file with your user name.\n",
    "\n",
    "Change PASSWORD_KEY to be the the correct key from your json file with your password.\n",
    "\n",
    "(Optional) You can change where the csv file will be saved by changing the folder variable.\n"
   ]
  },
  {
   "cell_type": "code",
   "execution_count": 1,
   "id": "f9660006",
   "metadata": {},
   "outputs": [
    {
     "ename": "FileNotFoundError",
     "evalue": "[Errno 2] No such file or directory: '/Users/Ernesto/.secret/tmdb_api.json'",
     "output_type": "error",
     "traceback": [
      "\u001b[1;31m---------------------------------------------------------------------------\u001b[0m",
      "\u001b[1;31mFileNotFoundError\u001b[0m                         Traceback (most recent call last)",
      "Cell \u001b[1;32mIn [1], line 7\u001b[0m\n\u001b[0;32m      1\u001b[0m \u001b[38;5;66;03m## UPDATE THESE VARIABLES TO MATCH YOUR OWN PC/DATABASE\u001b[39;00m\n\u001b[0;32m      2\u001b[0m \u001b[38;5;66;03m# MySQL Database to export \u001b[39;00m\n\u001b[0;32m      3\u001b[0m \n\u001b[0;32m      4\u001b[0m \u001b[38;5;66;03m# Json file with mysql login credentials\u001b[39;00m\n\u001b[0;32m      5\u001b[0m \u001b[38;5;66;03m# Load API Credentials\u001b[39;00m\n\u001b[0;32m      6\u001b[0m \u001b[38;5;28;01mimport\u001b[39;00m \u001b[38;5;21;01mjson\u001b[39;00m\n\u001b[1;32m----> 7\u001b[0m \u001b[38;5;28;01mwith\u001b[39;00m \u001b[38;5;28;43mopen\u001b[39;49m\u001b[43m(\u001b[49m\u001b[38;5;124;43m'\u001b[39;49m\u001b[38;5;124;43m/Users/Ernesto/.secret/tmdb_api.json\u001b[39;49m\u001b[38;5;124;43m'\u001b[39;49m\u001b[43m)\u001b[49m \u001b[38;5;28;01mas\u001b[39;00m f:\n\u001b[0;32m      8\u001b[0m     login \u001b[38;5;241m=\u001b[39m json\u001b[38;5;241m.\u001b[39mload(f)\n\u001b[0;32m     10\u001b[0m \u001b[38;5;66;03m## (Optional) - Change folder\u001b[39;00m\n",
      "File \u001b[1;32m~\\anaconda3\\envs\\dojo-env\\lib\\site-packages\\IPython\\core\\interactiveshell.py:282\u001b[0m, in \u001b[0;36m_modified_open\u001b[1;34m(file, *args, **kwargs)\u001b[0m\n\u001b[0;32m    275\u001b[0m \u001b[38;5;28;01mif\u001b[39;00m file \u001b[38;5;129;01min\u001b[39;00m {\u001b[38;5;241m0\u001b[39m, \u001b[38;5;241m1\u001b[39m, \u001b[38;5;241m2\u001b[39m}:\n\u001b[0;32m    276\u001b[0m     \u001b[38;5;28;01mraise\u001b[39;00m \u001b[38;5;167;01mValueError\u001b[39;00m(\n\u001b[0;32m    277\u001b[0m         \u001b[38;5;124mf\u001b[39m\u001b[38;5;124m\"\u001b[39m\u001b[38;5;124mIPython won\u001b[39m\u001b[38;5;124m'\u001b[39m\u001b[38;5;124mt let you open fd=\u001b[39m\u001b[38;5;132;01m{\u001b[39;00mfile\u001b[38;5;132;01m}\u001b[39;00m\u001b[38;5;124m by default \u001b[39m\u001b[38;5;124m\"\u001b[39m\n\u001b[0;32m    278\u001b[0m         \u001b[38;5;124m\"\u001b[39m\u001b[38;5;124mas it is likely to crash IPython. If you know what you are doing, \u001b[39m\u001b[38;5;124m\"\u001b[39m\n\u001b[0;32m    279\u001b[0m         \u001b[38;5;124m\"\u001b[39m\u001b[38;5;124myou can use builtins\u001b[39m\u001b[38;5;124m'\u001b[39m\u001b[38;5;124m open.\u001b[39m\u001b[38;5;124m\"\u001b[39m\n\u001b[0;32m    280\u001b[0m     )\n\u001b[1;32m--> 282\u001b[0m \u001b[38;5;28;01mreturn\u001b[39;00m io_open(file, \u001b[38;5;241m*\u001b[39margs, \u001b[38;5;241m*\u001b[39m\u001b[38;5;241m*\u001b[39mkwargs)\n",
      "\u001b[1;31mFileNotFoundError\u001b[0m: [Errno 2] No such file or directory: '/Users/Ernesto/.secret/tmdb_api.json'"
     ]
    }
   ],
   "source": [
    "## UPDATE THESE VARIABLES TO MATCH YOUR OWN PC/DATABASE\n",
    "# MySQL Database to export \n",
    "\n",
    "# Json file with mysql login credentials\n",
    "# Load API Credentials\n",
    "import json\n",
    "with open('/Users/Ernesto/.secret/tmdb_api.json') as f:\n",
    "    login = json.load(f)\n",
    "\n",
    "## (Optional) - Change folder\n",
    "folder = \"Data-for-Tableau/\"\n",
    "######## CODE TO TEST LOGIN CREDENTIALS\n",
    "import os, json\n",
    "os.makedirs(folder, exist_ok=True)\n",
    "\n",
    "with open(connection) as f:\n",
    "\tlogin = json.load(f)\n",
    "\n",
    "if (USER_KEY not in login):\n",
    "    raise Exception(f\"[!] The json file did not have a {USER_KEY} key.\")\n",
    "    \n",
    "if (PASSWORD_KEY not in login):\n",
    "    raise Exception(f\"[!] The json file did not have a {PASSWORD_KEY} key.\")\n",
    "    \n"
   ]
  },
  {
   "cell_type": "code",
   "execution_count": null,
   "id": "933cabfa",
   "metadata": {},
   "outputs": [],
   "source": []
  }
 ],
 "metadata": {
  "kernelspec": {
   "display_name": "Python (dojo-env)",
   "language": "python",
   "name": "dojo-env"
  },
  "language_info": {
   "codemirror_mode": {
    "name": "ipython",
    "version": 3
   },
   "file_extension": ".py",
   "mimetype": "text/x-python",
   "name": "python",
   "nbconvert_exporter": "python",
   "pygments_lexer": "ipython3",
   "version": "3.9.15"
  },
  "toc": {
   "base_numbering": 1,
   "nav_menu": {},
   "number_sections": false,
   "sideBar": true,
   "skip_h1_title": false,
   "title_cell": "Table of Contents",
   "title_sidebar": "Contents",
   "toc_cell": false,
   "toc_position": {},
   "toc_section_display": true,
   "toc_window_display": false
  }
 },
 "nbformat": 4,
 "nbformat_minor": 5
}
