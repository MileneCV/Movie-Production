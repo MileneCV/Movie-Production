{
 "cells": [
  {
   "cell_type": "markdown",
   "id": "d2e3fca4",
   "metadata": {},
   "source": [
    "# Part 4\n",
    "\n",
    "For part 4 of the project, you will be using your MySQL database from part 3 to answer meaningful questions for your stakeholder. They want you to use your hypothesis testing and statistics knowledge to answer 3 questions about what makes a successful movie."
   ]
  },
  {
   "cell_type": "markdown",
   "id": "bd38b912",
   "metadata": {},
   "source": [
    "# Import"
   ]
  },
  {
   "cell_type": "code",
   "execution_count": 65,
   "id": "e234cea8",
   "metadata": {},
   "outputs": [],
   "source": [
    "import pandas as pd\n",
    "import numpy as np\n",
    "import os, time,json\n",
    "import tmdbsimple as tmdb \n",
    "from tqdm.notebook import tqdm_notebook\n",
    "import matplotlib.pyplot as plt\n",
    "import seaborn as sns\n",
    "import json\n",
    "from scipy import stats\n",
    "import scipy\n"
   ]
  },
  {
   "cell_type": "markdown",
   "id": "adf2309a",
   "metadata": {},
   "source": [
    "# Using Your API Credentials"
   ]
  },
  {
   "cell_type": "code",
   "execution_count": 2,
   "id": "1140a747",
   "metadata": {},
   "outputs": [],
   "source": [
    "# Load API Credentials\n",
    "\n",
    "with open('/Users/Ernesto/.secret/tmdb_api.json') as f:\n",
    "    login = json.load(f)"
   ]
  },
  {
   "cell_type": "code",
   "execution_count": 3,
   "id": "4e608b0b",
   "metadata": {},
   "outputs": [
    {
     "data": {
      "text/plain": [
       "dict_keys(['client-id', 'api-key'])"
      ]
     },
     "execution_count": 3,
     "metadata": {},
     "output_type": "execute_result"
    }
   ],
   "source": [
    "# display keys\n",
    "login.keys()"
   ]
  },
  {
   "cell_type": "code",
   "execution_count": 4,
   "id": "f5b8d7c3",
   "metadata": {},
   "outputs": [],
   "source": [
    "tmdb.API_KEY = login['api-key']"
   ]
  },
  {
   "cell_type": "markdown",
   "id": "4725f9a0",
   "metadata": {},
   "source": [
    "# Designate a folder"
   ]
  },
  {
   "cell_type": "code",
   "execution_count": 9,
   "id": "50e8c19e",
   "metadata": {},
   "outputs": [
    {
     "data": {
      "text/plain": [
       "['.ipynb_checkpoints',\n",
       " 'df_2000_2001.csv.gz',\n",
       " 'final_tmdb_data_2000.csv.gz',\n",
       " 'final_tmdb_data_2001.csv.gz',\n",
       " 'title_akas.csv.gz',\n",
       " 'title_basics.csv.gz',\n",
       " 'title_ratings.csv.gz',\n",
       " 'tmdb_api_results_2000.json',\n",
       " 'tmdb_api_results_2001.json']"
      ]
     },
     "execution_count": 9,
     "metadata": {},
     "output_type": "execute_result"
    }
   ],
   "source": [
    "# create a new folder\n",
    "FOLDER = \"Data/\"\n",
    "os.makedirs(FOLDER, exist_ok=True)\n",
    "os.listdir(FOLDER)"
   ]
  },
  {
   "cell_type": "markdown",
   "id": "9e730ca3",
   "metadata": {},
   "source": [
    "# Defining Our Function"
   ]
  },
  {
   "cell_type": "code",
   "execution_count": 48,
   "id": "2ac70a3e",
   "metadata": {},
   "outputs": [],
   "source": [
    "def write_json(new_data, filename): \n",
    "    \"\"\"Appends a list of records (new_data) to a json file (filename). \n",
    "    Adapted from: https://www.geeksforgeeks.org/append-to-json-file-using-python/\"\"\"  \n",
    "    \n",
    "    with open(filename,'r+') as file:\n",
    "        # First we load existing data into a dict.\n",
    "        file_data = json.load(file)\n",
    "        ## Choose extend or append\n",
    "        if (type(new_data) == list) & (type(file_data) == list):\n",
    "            file_data.extend(new_data)\n",
    "        else:\n",
    "             file_data.append(new_data)\n",
    "        # Sets file's current position at offset.\n",
    "        file.seek(0)\n",
    "        # convert back to json.\n",
    "        json.dump(file_data, file)"
   ]
  },
  {
   "cell_type": "code",
   "execution_count": 49,
   "id": "25a7ce08",
   "metadata": {},
   "outputs": [],
   "source": [
    "def get_movie_with_rating(movie_id):\n",
    "    # get the movie object for the currend id\n",
    "    movie = tmdb.Movies(movie_id)\n",
    "    #save the .info .releases dictionaries\n",
    "    info = movie.info()\n",
    "    \n",
    "    releases = movie.releases()\n",
    "    # loop thrpoght countries in releases\n",
    "    for c in releases['countries']:\n",
    "        # if the country abbreviation == US\n",
    "        if c['iso_3166_1'] =='US':\n",
    "            # save a certificatiion key in info with the certification\n",
    "            info['certification'] = c['certification']\n",
    "    return info"
   ]
  },
  {
   "cell_type": "markdown",
   "id": "c5f0e7be",
   "metadata": {},
   "source": [
    "# Requested a extraction of movies in the last 10 years, 2010-2019 (pre-pandemic)"
   ]
  },
  {
   "cell_type": "code",
   "execution_count": 37,
   "id": "94abc00b",
   "metadata": {},
   "outputs": [],
   "source": [
    "YEARS_TO_GET = [2010, 2011, 2012, 2013, 2014, 2015, 2016, 2017, 2018, 2019]\n"
   ]
  },
  {
   "cell_type": "code",
   "execution_count": 38,
   "id": "d40160e4",
   "metadata": {},
   "outputs": [],
   "source": [
    "## Define an errors list\n",
    "errors = [ ]"
   ]
  },
  {
   "cell_type": "code",
   "execution_count": 39,
   "id": "ac02727a",
   "metadata": {},
   "outputs": [
    {
     "data": {
      "text/html": [
       "<div>\n",
       "<style scoped>\n",
       "    .dataframe tbody tr th:only-of-type {\n",
       "        vertical-align: middle;\n",
       "    }\n",
       "\n",
       "    .dataframe tbody tr th {\n",
       "        vertical-align: top;\n",
       "    }\n",
       "\n",
       "    .dataframe thead th {\n",
       "        text-align: right;\n",
       "    }\n",
       "</style>\n",
       "<table border=\"1\" class=\"dataframe\">\n",
       "  <thead>\n",
       "    <tr style=\"text-align: right;\">\n",
       "      <th></th>\n",
       "      <th>tconst</th>\n",
       "      <th>titleType</th>\n",
       "      <th>primaryTitle</th>\n",
       "      <th>originalTitle</th>\n",
       "      <th>isAdult</th>\n",
       "      <th>startYear</th>\n",
       "      <th>endYear</th>\n",
       "      <th>runtimeMinutes</th>\n",
       "      <th>genres</th>\n",
       "    </tr>\n",
       "  </thead>\n",
       "  <tbody>\n",
       "    <tr>\n",
       "      <th>0</th>\n",
       "      <td>tt0035423</td>\n",
       "      <td>movie</td>\n",
       "      <td>Kate &amp; Leopold</td>\n",
       "      <td>Kate &amp; Leopold</td>\n",
       "      <td>0</td>\n",
       "      <td>2001</td>\n",
       "      <td>NaN</td>\n",
       "      <td>118</td>\n",
       "      <td>Comedy,Fantasy,Romance</td>\n",
       "    </tr>\n",
       "    <tr>\n",
       "      <th>1</th>\n",
       "      <td>tt0062336</td>\n",
       "      <td>movie</td>\n",
       "      <td>The Tango of the Widower and Its Distorting Mi...</td>\n",
       "      <td>El Tango del Viudo y Su Espejo Deformante</td>\n",
       "      <td>0</td>\n",
       "      <td>2020</td>\n",
       "      <td>NaN</td>\n",
       "      <td>70</td>\n",
       "      <td>Drama</td>\n",
       "    </tr>\n",
       "    <tr>\n",
       "      <th>2</th>\n",
       "      <td>tt0069049</td>\n",
       "      <td>movie</td>\n",
       "      <td>The Other Side of the Wind</td>\n",
       "      <td>The Other Side of the Wind</td>\n",
       "      <td>0</td>\n",
       "      <td>2018</td>\n",
       "      <td>NaN</td>\n",
       "      <td>122</td>\n",
       "      <td>Drama</td>\n",
       "    </tr>\n",
       "    <tr>\n",
       "      <th>3</th>\n",
       "      <td>tt0088751</td>\n",
       "      <td>movie</td>\n",
       "      <td>The Naked Monster</td>\n",
       "      <td>The Naked Monster</td>\n",
       "      <td>0</td>\n",
       "      <td>2005</td>\n",
       "      <td>NaN</td>\n",
       "      <td>100</td>\n",
       "      <td>Comedy,Horror,Sci-Fi</td>\n",
       "    </tr>\n",
       "    <tr>\n",
       "      <th>4</th>\n",
       "      <td>tt0096056</td>\n",
       "      <td>movie</td>\n",
       "      <td>Crime and Punishment</td>\n",
       "      <td>Crime and Punishment</td>\n",
       "      <td>0</td>\n",
       "      <td>2002</td>\n",
       "      <td>NaN</td>\n",
       "      <td>126</td>\n",
       "      <td>Drama</td>\n",
       "    </tr>\n",
       "  </tbody>\n",
       "</table>\n",
       "</div>"
      ],
      "text/plain": [
       "      tconst titleType                                       primaryTitle  \\\n",
       "0  tt0035423     movie                                     Kate & Leopold   \n",
       "1  tt0062336     movie  The Tango of the Widower and Its Distorting Mi...   \n",
       "2  tt0069049     movie                         The Other Side of the Wind   \n",
       "3  tt0088751     movie                                  The Naked Monster   \n",
       "4  tt0096056     movie                               Crime and Punishment   \n",
       "\n",
       "                               originalTitle  isAdult  startYear  endYear  \\\n",
       "0                             Kate & Leopold        0       2001      NaN   \n",
       "1  El Tango del Viudo y Su Espejo Deformante        0       2020      NaN   \n",
       "2                 The Other Side of the Wind        0       2018      NaN   \n",
       "3                          The Naked Monster        0       2005      NaN   \n",
       "4                       Crime and Punishment        0       2002      NaN   \n",
       "\n",
       "   runtimeMinutes                  genres  \n",
       "0             118  Comedy,Fantasy,Romance  \n",
       "1              70                   Drama  \n",
       "2             122                   Drama  \n",
       "3             100    Comedy,Horror,Sci-Fi  \n",
       "4             126                   Drama  "
      ]
     },
     "execution_count": 39,
     "metadata": {},
     "output_type": "execute_result"
    }
   ],
   "source": [
    "# Open saved file and preview again\n",
    "basics = pd.read_csv(\"Data/title_basics.csv.gz\", low_memory = False)\n",
    "basics.head()"
   ]
  },
  {
   "cell_type": "code",
   "execution_count": 51,
   "id": "fbfefc23",
   "metadata": {},
   "outputs": [
    {
     "data": {
      "application/vnd.jupyter.widget-view+json": {
       "model_id": "f5f96c0fdbac429b81581b3d0503c56d",
       "version_major": 2,
       "version_minor": 0
      },
      "text/plain": [
       "YEARS:   0%|          | 0/10 [00:00<?, ?it/s]"
      ]
     },
     "metadata": {},
     "output_type": "display_data"
    },
    {
     "data": {
      "application/vnd.jupyter.widget-view+json": {
       "model_id": "4cb74f52c0494bc1a6ec91d45866ba56",
       "version_major": 2,
       "version_minor": 0
      },
      "text/plain": [
       "Movies from 2010:   0%|          | 0/3795 [00:00<?, ?it/s]"
      ]
     },
     "metadata": {},
     "output_type": "display_data"
    },
    {
     "data": {
      "application/vnd.jupyter.widget-view+json": {
       "model_id": "a2b2696c04d7412eab6c61499ed7e16e",
       "version_major": 2,
       "version_minor": 0
      },
      "text/plain": [
       "Movies from 2011:   0%|          | 0/4170 [00:00<?, ?it/s]"
      ]
     },
     "metadata": {},
     "output_type": "display_data"
    },
    {
     "data": {
      "application/vnd.jupyter.widget-view+json": {
       "model_id": "d0cfc89f34bc4178b2b421a12d12098a",
       "version_major": 2,
       "version_minor": 0
      },
      "text/plain": [
       "Movies from 2012:   0%|          | 0/4460 [00:00<?, ?it/s]"
      ]
     },
     "metadata": {},
     "output_type": "display_data"
    },
    {
     "data": {
      "application/vnd.jupyter.widget-view+json": {
       "model_id": "ce5e6c3c15904182a2d65ecf61ff8a9f",
       "version_major": 2,
       "version_minor": 0
      },
      "text/plain": [
       "Movies from 2013:   0%|          | 0/4661 [00:00<?, ?it/s]"
      ]
     },
     "metadata": {},
     "output_type": "display_data"
    },
    {
     "data": {
      "application/vnd.jupyter.widget-view+json": {
       "model_id": "71a27011a36a4ab7965c1376d7eeb5b3",
       "version_major": 2,
       "version_minor": 0
      },
      "text/plain": [
       "Movies from 2014:   0%|          | 0/4827 [00:00<?, ?it/s]"
      ]
     },
     "metadata": {},
     "output_type": "display_data"
    },
    {
     "data": {
      "application/vnd.jupyter.widget-view+json": {
       "model_id": "a4c7903d23c14105a17a0b093a3f9138",
       "version_major": 2,
       "version_minor": 0
      },
      "text/plain": [
       "Movies from 2015:   0%|          | 0/4962 [00:00<?, ?it/s]"
      ]
     },
     "metadata": {},
     "output_type": "display_data"
    },
    {
     "data": {
      "application/vnd.jupyter.widget-view+json": {
       "model_id": "9c8b910603254a1ab30c33fee7053c03",
       "version_major": 2,
       "version_minor": 0
      },
      "text/plain": [
       "Movies from 2016:   0%|          | 0/5168 [00:00<?, ?it/s]"
      ]
     },
     "metadata": {},
     "output_type": "display_data"
    },
    {
     "data": {
      "application/vnd.jupyter.widget-view+json": {
       "model_id": "b687750aeb5c4b3c9405a06402313ce4",
       "version_major": 2,
       "version_minor": 0
      },
      "text/plain": [
       "Movies from 2017:   0%|          | 0/5546 [00:00<?, ?it/s]"
      ]
     },
     "metadata": {},
     "output_type": "display_data"
    },
    {
     "data": {
      "application/vnd.jupyter.widget-view+json": {
       "model_id": "e9958a6e28244a6ebf039a9855bfb9da",
       "version_major": 2,
       "version_minor": 0
      },
      "text/plain": [
       "Movies from 2018:   0%|          | 0/5664 [00:00<?, ?it/s]"
      ]
     },
     "metadata": {},
     "output_type": "display_data"
    },
    {
     "data": {
      "application/vnd.jupyter.widget-view+json": {
       "model_id": "c6368059b4f4418cbeea58acae3eb52a",
       "version_major": 2,
       "version_minor": 0
      },
      "text/plain": [
       "Movies from 2019:   0%|          | 0/5758 [00:00<?, ?it/s]"
      ]
     },
     "metadata": {},
     "output_type": "display_data"
    }
   ],
   "source": [
    "# OUTER and INNER loop\n",
    "\n",
    "# Start of OUTER loop ( Iterate through years 2000 and 2001)\n",
    "\n",
    "for YEAR in tqdm_notebook(YEARS_TO_GET,desc='YEARS',position=0):\n",
    "    #Defining the JSON file to store results for year\n",
    "    JSON_FILE = f'{FOLDER}tmdb_api_results_{YEAR}.json'\n",
    "    # Check if JSON file exists\n",
    "    file_exists = os.path.isfile(JSON_FILE)\n",
    "    # If it does not exist: create it\n",
    "    if file_exists == False:\n",
    "        # save an empty dict with just \"imdb_id\" to the new json file.\n",
    "        with open(JSON_FILE,'w') as f:\n",
    "            json.dump([{'imdb_id':0}],f)\n",
    "            \n",
    "    #Define/filter the IDs to call( From Basics dataset filter out movie ids for the year (2000 & 2001)\n",
    "    #Saving new year as the current df\n",
    "    df = basics.loc[ basics['startYear']==YEAR].copy()\n",
    "    # saving movie ids to list\n",
    "    movie_ids = df['tconst'].copy()\n",
    "    # Load existing data from json into a dataframe called \"previous_df\"\n",
    "    \n",
    "    previous_df = pd.read_json(JSON_FILE)\n",
    "    # filter out any ids that are already in the JSON_FILE\n",
    "    movie_ids_to_get = movie_ids[~movie_ids.isin(previous_df['imdb_id'])]\n",
    "    \n",
    "    # Start of INNER LOOP\n",
    "    # Iterate through the list of Movies IDs and make the calls\n",
    "        #Get index and movie id from list\n",
    "    \n",
    "    for movie_id in tqdm_notebook(movie_ids_to_get,\n",
    "                                  desc=f'Movies from {YEAR}',\n",
    "                                  position=1,\n",
    "                                  leave=True):\n",
    "        try:\n",
    "            # Retrieve then data for the movie id\n",
    "            temp = get_movie_with_rating(movie_id)  \n",
    "            # Append/extend results to existing file using a pre-made function\n",
    "            write_json(temp,JSON_FILE)\n",
    "            # Short 20 ms sleep to prevent overwhelming server\n",
    "            time.sleep(0.02)\n",
    "            \n",
    "        except Exception as e:\n",
    "            errors.append([movie_id, e])\n",
    "            \n",
    "    # Save your results as csv.gz file\n",
    "    final_year_df = pd.read_json(JSON_FILE)\n",
    "    final_year_df.to_csv(f\"{FOLDER}final_tmdb_data_{YEAR}.csv.gz\", compression=\"gzip\", index=False)"
   ]
  },
  {
   "cell_type": "code",
   "execution_count": 52,
   "id": "be4e66b7",
   "metadata": {},
   "outputs": [
    {
     "name": "stdout",
     "output_type": "stream",
     "text": [
      "- Total errors: 161792\n"
     ]
    }
   ],
   "source": [
    "# Print a message reporting back the number of movie ids that caused an error.\n",
    "print(f\"- Total errors: {len(errors)}\")"
   ]
  },
  {
   "cell_type": "markdown",
   "id": "f5bae091",
   "metadata": {},
   "source": [
    "## Using Glob to Load Many Files"
   ]
  },
  {
   "cell_type": "code",
   "execution_count": 96,
   "id": "7554e4f4",
   "metadata": {},
   "outputs": [
    {
     "data": {
      "text/plain": [
       "['Data\\\\final_tmdb_data_2000.csv.gz',\n",
       " 'Data\\\\final_tmdb_data_2001.csv.gz',\n",
       " 'Data\\\\final_tmdb_data_2010.csv.gz',\n",
       " 'Data\\\\final_tmdb_data_2011.csv.gz',\n",
       " 'Data\\\\final_tmdb_data_2012.csv.gz',\n",
       " 'Data\\\\final_tmdb_data_2013.csv.gz',\n",
       " 'Data\\\\final_tmdb_data_2014.csv.gz',\n",
       " 'Data\\\\final_tmdb_data_2015.csv.gz',\n",
       " 'Data\\\\final_tmdb_data_2016.csv.gz',\n",
       " 'Data\\\\final_tmdb_data_2017.csv.gz',\n",
       " 'Data\\\\final_tmdb_data_2018.csv.gz',\n",
       " 'Data\\\\final_tmdb_data_2019.csv.gz',\n",
       " 'Data\\\\final_tmdb_data_combined.csv.gz']"
      ]
     },
     "execution_count": 96,
     "metadata": {},
     "output_type": "execute_result"
    }
   ],
   "source": [
    "import glob\n",
    "q = \"Data/final_tmdb_data*.csv.gz\"\n",
    "tmdb_files = glob.glob(q)\n",
    "# Showing \n",
    "tmdb_files\n",
    "\n"
   ]
  },
  {
   "cell_type": "markdown",
   "id": "3e7f2036",
   "metadata": {},
   "source": [
    "## Combining Many Files"
   ]
  },
  {
   "cell_type": "markdown",
   "id": "9dfc44eb",
   "metadata": {},
   "source": [
    "### For-Loop Way"
   ]
  },
  {
   "cell_type": "code",
   "execution_count": 97,
   "id": "a3e9143c",
   "metadata": {},
   "outputs": [
    {
     "data": {
      "text/html": [
       "<div>\n",
       "<style scoped>\n",
       "    .dataframe tbody tr th:only-of-type {\n",
       "        vertical-align: middle;\n",
       "    }\n",
       "\n",
       "    .dataframe tbody tr th {\n",
       "        vertical-align: top;\n",
       "    }\n",
       "\n",
       "    .dataframe thead th {\n",
       "        text-align: right;\n",
       "    }\n",
       "</style>\n",
       "<table border=\"1\" class=\"dataframe\">\n",
       "  <thead>\n",
       "    <tr style=\"text-align: right;\">\n",
       "      <th></th>\n",
       "      <th>adult</th>\n",
       "      <th>backdrop_path</th>\n",
       "      <th>belongs_to_collection</th>\n",
       "      <th>budget</th>\n",
       "      <th>genres</th>\n",
       "      <th>homepage</th>\n",
       "      <th>id</th>\n",
       "      <th>original_language</th>\n",
       "      <th>original_title</th>\n",
       "      <th>overview</th>\n",
       "      <th>...</th>\n",
       "      <th>revenue</th>\n",
       "      <th>runtime</th>\n",
       "      <th>spoken_languages</th>\n",
       "      <th>status</th>\n",
       "      <th>tagline</th>\n",
       "      <th>title</th>\n",
       "      <th>video</th>\n",
       "      <th>vote_average</th>\n",
       "      <th>vote_count</th>\n",
       "      <th>certification</th>\n",
       "    </tr>\n",
       "  </thead>\n",
       "  <tbody>\n",
       "    <tr>\n",
       "      <th>0</th>\n",
       "      <td>NaN</td>\n",
       "      <td>NaN</td>\n",
       "      <td>NaN</td>\n",
       "      <td>NaN</td>\n",
       "      <td>NaN</td>\n",
       "      <td>NaN</td>\n",
       "      <td>NaN</td>\n",
       "      <td>NaN</td>\n",
       "      <td>NaN</td>\n",
       "      <td>NaN</td>\n",
       "      <td>...</td>\n",
       "      <td>NaN</td>\n",
       "      <td>NaN</td>\n",
       "      <td>NaN</td>\n",
       "      <td>NaN</td>\n",
       "      <td>NaN</td>\n",
       "      <td>NaN</td>\n",
       "      <td>NaN</td>\n",
       "      <td>NaN</td>\n",
       "      <td>NaN</td>\n",
       "      <td>NaN</td>\n",
       "    </tr>\n",
       "    <tr>\n",
       "      <th>tt0113026</th>\n",
       "      <td>0.0</td>\n",
       "      <td>/vMFs7nw6P0bIV1jDsQpxAieAVnH.jpg</td>\n",
       "      <td>NaN</td>\n",
       "      <td>10000000.0</td>\n",
       "      <td>[{'id': 35, 'name': 'Comedy'}, {'id': 10402, '...</td>\n",
       "      <td>NaN</td>\n",
       "      <td>62127.0</td>\n",
       "      <td>en</td>\n",
       "      <td>The Fantasticks</td>\n",
       "      <td>Two rural teens sing and dance their way throu...</td>\n",
       "      <td>...</td>\n",
       "      <td>0.0</td>\n",
       "      <td>86.0</td>\n",
       "      <td>[{'english_name': 'English', 'iso_639_1': 'en'...</td>\n",
       "      <td>Released</td>\n",
       "      <td>Try to remember the first time magic happened</td>\n",
       "      <td>The Fantasticks</td>\n",
       "      <td>0.0</td>\n",
       "      <td>5.500</td>\n",
       "      <td>22.0</td>\n",
       "      <td>NaN</td>\n",
       "    </tr>\n",
       "    <tr>\n",
       "      <th>tt0113092</th>\n",
       "      <td>0.0</td>\n",
       "      <td>NaN</td>\n",
       "      <td>NaN</td>\n",
       "      <td>0.0</td>\n",
       "      <td>[{'id': 878, 'name': 'Science Fiction'}]</td>\n",
       "      <td>NaN</td>\n",
       "      <td>110977.0</td>\n",
       "      <td>en</td>\n",
       "      <td>For the Cause</td>\n",
       "      <td>Earth is in a state of constant war and two co...</td>\n",
       "      <td>...</td>\n",
       "      <td>0.0</td>\n",
       "      <td>100.0</td>\n",
       "      <td>[{'english_name': 'English', 'iso_639_1': 'en'...</td>\n",
       "      <td>Released</td>\n",
       "      <td>The ultimate showdown on a forbidden planet.</td>\n",
       "      <td>For the Cause</td>\n",
       "      <td>0.0</td>\n",
       "      <td>5.100</td>\n",
       "      <td>8.0</td>\n",
       "      <td>NaN</td>\n",
       "    </tr>\n",
       "    <tr>\n",
       "      <th>tt0116391</th>\n",
       "      <td>0.0</td>\n",
       "      <td>NaN</td>\n",
       "      <td>NaN</td>\n",
       "      <td>0.0</td>\n",
       "      <td>[{'id': 18, 'name': 'Drama'}, {'id': 28, 'name...</td>\n",
       "      <td>NaN</td>\n",
       "      <td>442869.0</td>\n",
       "      <td>hi</td>\n",
       "      <td>Gang</td>\n",
       "      <td>After falling prey to underworld, four friends...</td>\n",
       "      <td>...</td>\n",
       "      <td>0.0</td>\n",
       "      <td>152.0</td>\n",
       "      <td>[{'english_name': 'Hindi', 'iso_639_1': 'hi', ...</td>\n",
       "      <td>Released</td>\n",
       "      <td>NaN</td>\n",
       "      <td>Gang</td>\n",
       "      <td>0.0</td>\n",
       "      <td>4.000</td>\n",
       "      <td>1.0</td>\n",
       "      <td>NaN</td>\n",
       "    </tr>\n",
       "    <tr>\n",
       "      <th>tt0118694</th>\n",
       "      <td>0.0</td>\n",
       "      <td>/n4GJFGzsc7NinI1VeGDXIcQjtU2.jpg</td>\n",
       "      <td>NaN</td>\n",
       "      <td>150000.0</td>\n",
       "      <td>[{'id': 18, 'name': 'Drama'}, {'id': 10749, 'n...</td>\n",
       "      <td>NaN</td>\n",
       "      <td>843.0</td>\n",
       "      <td>cn</td>\n",
       "      <td>花樣年華</td>\n",
       "      <td>Hong Kong, 1962: Chow Mo-Wan and Su Li-Zhen mo...</td>\n",
       "      <td>...</td>\n",
       "      <td>12854953.0</td>\n",
       "      <td>99.0</td>\n",
       "      <td>[{'english_name': 'Cantonese', 'iso_639_1': 'c...</td>\n",
       "      <td>Released</td>\n",
       "      <td>Feel the heat, keep the feeling burning, let t...</td>\n",
       "      <td>In the Mood for Love</td>\n",
       "      <td>0.0</td>\n",
       "      <td>8.100</td>\n",
       "      <td>2070.0</td>\n",
       "      <td>PG</td>\n",
       "    </tr>\n",
       "    <tr>\n",
       "      <th>...</th>\n",
       "      <td>...</td>\n",
       "      <td>...</td>\n",
       "      <td>...</td>\n",
       "      <td>...</td>\n",
       "      <td>...</td>\n",
       "      <td>...</td>\n",
       "      <td>...</td>\n",
       "      <td>...</td>\n",
       "      <td>...</td>\n",
       "      <td>...</td>\n",
       "      <td>...</td>\n",
       "      <td>...</td>\n",
       "      <td>...</td>\n",
       "      <td>...</td>\n",
       "      <td>...</td>\n",
       "      <td>...</td>\n",
       "      <td>...</td>\n",
       "      <td>...</td>\n",
       "      <td>...</td>\n",
       "      <td>...</td>\n",
       "      <td>...</td>\n",
       "    </tr>\n",
       "    <tr>\n",
       "      <th>0.0</th>\n",
       "      <td>NaN</td>\n",
       "      <td>NaN</td>\n",
       "      <td>NaN</td>\n",
       "      <td>0.0</td>\n",
       "      <td>[]</td>\n",
       "      <td>NaN</td>\n",
       "      <td>599083.0</td>\n",
       "      <td>ml</td>\n",
       "      <td>ഓട്ടം</td>\n",
       "      <td>Set in Trivandrum, the story of Ottam unfolds ...</td>\n",
       "      <td>...</td>\n",
       "      <td>0.0</td>\n",
       "      <td>120.0</td>\n",
       "      <td>[{'english_name': 'Malayalam', 'iso_639_1': 'm...</td>\n",
       "      <td>Released</td>\n",
       "      <td>NaN</td>\n",
       "      <td>Ottam</td>\n",
       "      <td>0.0</td>\n",
       "      <td>0.000</td>\n",
       "      <td>0.0</td>\n",
       "      <td>unknow</td>\n",
       "    </tr>\n",
       "    <tr>\n",
       "      <th>0.0</th>\n",
       "      <td>NaN</td>\n",
       "      <td>/htoReVItKtolso5VJqFqJDBaOwm.jpg</td>\n",
       "      <td>NaN</td>\n",
       "      <td>0.0</td>\n",
       "      <td>[{'id': 35, 'name': 'Comedy'}, {'id': 18, 'nam...</td>\n",
       "      <td>NaN</td>\n",
       "      <td>635903.0</td>\n",
       "      <td>ml</td>\n",
       "      <td>മനോഹരം</td>\n",
       "      <td>Manoharan is a poster artist struggling to fin...</td>\n",
       "      <td>...</td>\n",
       "      <td>0.0</td>\n",
       "      <td>122.0</td>\n",
       "      <td>[{'english_name': 'Malayalam', 'iso_639_1': 'm...</td>\n",
       "      <td>Released</td>\n",
       "      <td>NaN</td>\n",
       "      <td>Manoharam</td>\n",
       "      <td>0.0</td>\n",
       "      <td>6.136</td>\n",
       "      <td>11.0</td>\n",
       "      <td>unknow</td>\n",
       "    </tr>\n",
       "    <tr>\n",
       "      <th>0.0</th>\n",
       "      <td>NaN</td>\n",
       "      <td>/z6YpkQiWLnRKl5yQD9dSiPDFWN.jpg</td>\n",
       "      <td>NaN</td>\n",
       "      <td>0.0</td>\n",
       "      <td>[{'id': 18, 'name': 'Drama'}]</td>\n",
       "      <td>NaN</td>\n",
       "      <td>711261.0</td>\n",
       "      <td>en</td>\n",
       "      <td>No Apology</td>\n",
       "      <td>When a group of women struggle to deal with th...</td>\n",
       "      <td>...</td>\n",
       "      <td>0.0</td>\n",
       "      <td>102.0</td>\n",
       "      <td>[{'english_name': 'English', 'iso_639_1': 'en'...</td>\n",
       "      <td>Released</td>\n",
       "      <td>NaN</td>\n",
       "      <td>No Apology</td>\n",
       "      <td>0.0</td>\n",
       "      <td>8.000</td>\n",
       "      <td>1.0</td>\n",
       "      <td>unknow</td>\n",
       "    </tr>\n",
       "    <tr>\n",
       "      <th>0.0</th>\n",
       "      <td>NaN</td>\n",
       "      <td>/tjHUeULyw2vtS1DXFp0OHfhUzRX.jpg</td>\n",
       "      <td>NaN</td>\n",
       "      <td>0.0</td>\n",
       "      <td>[{'id': 18, 'name': 'Drama'}, {'id': 10749, 'n...</td>\n",
       "      <td>NaN</td>\n",
       "      <td>598553.0</td>\n",
       "      <td>ca</td>\n",
       "      <td>La vida sense la Sara Amat</td>\n",
       "      <td>Pep, a 13-year-old boy, is in love with a girl...</td>\n",
       "      <td>...</td>\n",
       "      <td>0.0</td>\n",
       "      <td>74.0</td>\n",
       "      <td>[{'english_name': 'Catalan', 'iso_639_1': 'ca'...</td>\n",
       "      <td>Released</td>\n",
       "      <td>NaN</td>\n",
       "      <td>Life without Sara Amat</td>\n",
       "      <td>0.0</td>\n",
       "      <td>7.714</td>\n",
       "      <td>7.0</td>\n",
       "      <td>unknow</td>\n",
       "    </tr>\n",
       "    <tr>\n",
       "      <th>0.0</th>\n",
       "      <td>NaN</td>\n",
       "      <td>NaN</td>\n",
       "      <td>NaN</td>\n",
       "      <td>0.0</td>\n",
       "      <td>[]</td>\n",
       "      <td>NaN</td>\n",
       "      <td>897433.0</td>\n",
       "      <td>en</td>\n",
       "      <td>The Last White Witch</td>\n",
       "      <td>One day, a charming and mystical girl, Fuka, a...</td>\n",
       "      <td>...</td>\n",
       "      <td>0.0</td>\n",
       "      <td>97.0</td>\n",
       "      <td>[]</td>\n",
       "      <td>Released</td>\n",
       "      <td>NaN</td>\n",
       "      <td>The Last White Witch</td>\n",
       "      <td>0.0</td>\n",
       "      <td>0.000</td>\n",
       "      <td>0.0</td>\n",
       "      <td>unknow</td>\n",
       "    </tr>\n",
       "  </tbody>\n",
       "</table>\n",
       "<p>79874 rows × 25 columns</p>\n",
       "</div>"
      ],
      "text/plain": [
       "           adult                     backdrop_path belongs_to_collection  \\\n",
       "0            NaN                               NaN                   NaN   \n",
       "tt0113026    0.0  /vMFs7nw6P0bIV1jDsQpxAieAVnH.jpg                   NaN   \n",
       "tt0113092    0.0                               NaN                   NaN   \n",
       "tt0116391    0.0                               NaN                   NaN   \n",
       "tt0118694    0.0  /n4GJFGzsc7NinI1VeGDXIcQjtU2.jpg                   NaN   \n",
       "...          ...                               ...                   ...   \n",
       "0.0          NaN                               NaN                   NaN   \n",
       "0.0          NaN  /htoReVItKtolso5VJqFqJDBaOwm.jpg                   NaN   \n",
       "0.0          NaN   /z6YpkQiWLnRKl5yQD9dSiPDFWN.jpg                   NaN   \n",
       "0.0          NaN  /tjHUeULyw2vtS1DXFp0OHfhUzRX.jpg                   NaN   \n",
       "0.0          NaN                               NaN                   NaN   \n",
       "\n",
       "               budget                                             genres  \\\n",
       "0                 NaN                                                NaN   \n",
       "tt0113026  10000000.0  [{'id': 35, 'name': 'Comedy'}, {'id': 10402, '...   \n",
       "tt0113092         0.0           [{'id': 878, 'name': 'Science Fiction'}]   \n",
       "tt0116391         0.0  [{'id': 18, 'name': 'Drama'}, {'id': 28, 'name...   \n",
       "tt0118694    150000.0  [{'id': 18, 'name': 'Drama'}, {'id': 10749, 'n...   \n",
       "...               ...                                                ...   \n",
       "0.0               0.0                                                 []   \n",
       "0.0               0.0  [{'id': 35, 'name': 'Comedy'}, {'id': 18, 'nam...   \n",
       "0.0               0.0                      [{'id': 18, 'name': 'Drama'}]   \n",
       "0.0               0.0  [{'id': 18, 'name': 'Drama'}, {'id': 10749, 'n...   \n",
       "0.0               0.0                                                 []   \n",
       "\n",
       "          homepage        id original_language              original_title  \\\n",
       "0              NaN       NaN               NaN                         NaN   \n",
       "tt0113026      NaN   62127.0                en             The Fantasticks   \n",
       "tt0113092      NaN  110977.0                en               For the Cause   \n",
       "tt0116391      NaN  442869.0                hi                        Gang   \n",
       "tt0118694      NaN     843.0                cn                        花樣年華   \n",
       "...            ...       ...               ...                         ...   \n",
       "0.0            NaN  599083.0                ml                       ഓട്ടം   \n",
       "0.0            NaN  635903.0                ml                      മനോഹരം   \n",
       "0.0            NaN  711261.0                en                  No Apology   \n",
       "0.0            NaN  598553.0                ca  La vida sense la Sara Amat   \n",
       "0.0            NaN  897433.0                en        The Last White Witch   \n",
       "\n",
       "                                                    overview  ...     revenue  \\\n",
       "0                                                        NaN  ...         NaN   \n",
       "tt0113026  Two rural teens sing and dance their way throu...  ...         0.0   \n",
       "tt0113092  Earth is in a state of constant war and two co...  ...         0.0   \n",
       "tt0116391  After falling prey to underworld, four friends...  ...         0.0   \n",
       "tt0118694  Hong Kong, 1962: Chow Mo-Wan and Su Li-Zhen mo...  ...  12854953.0   \n",
       "...                                                      ...  ...         ...   \n",
       "0.0        Set in Trivandrum, the story of Ottam unfolds ...  ...         0.0   \n",
       "0.0        Manoharan is a poster artist struggling to fin...  ...         0.0   \n",
       "0.0        When a group of women struggle to deal with th...  ...         0.0   \n",
       "0.0        Pep, a 13-year-old boy, is in love with a girl...  ...         0.0   \n",
       "0.0        One day, a charming and mystical girl, Fuka, a...  ...         0.0   \n",
       "\n",
       "          runtime                                   spoken_languages  \\\n",
       "0             NaN                                                NaN   \n",
       "tt0113026    86.0  [{'english_name': 'English', 'iso_639_1': 'en'...   \n",
       "tt0113092   100.0  [{'english_name': 'English', 'iso_639_1': 'en'...   \n",
       "tt0116391   152.0  [{'english_name': 'Hindi', 'iso_639_1': 'hi', ...   \n",
       "tt0118694    99.0  [{'english_name': 'Cantonese', 'iso_639_1': 'c...   \n",
       "...           ...                                                ...   \n",
       "0.0         120.0  [{'english_name': 'Malayalam', 'iso_639_1': 'm...   \n",
       "0.0         122.0  [{'english_name': 'Malayalam', 'iso_639_1': 'm...   \n",
       "0.0         102.0  [{'english_name': 'English', 'iso_639_1': 'en'...   \n",
       "0.0          74.0  [{'english_name': 'Catalan', 'iso_639_1': 'ca'...   \n",
       "0.0          97.0                                                 []   \n",
       "\n",
       "             status                                            tagline  \\\n",
       "0               NaN                                                NaN   \n",
       "tt0113026  Released      Try to remember the first time magic happened   \n",
       "tt0113092  Released       The ultimate showdown on a forbidden planet.   \n",
       "tt0116391  Released                                                NaN   \n",
       "tt0118694  Released  Feel the heat, keep the feeling burning, let t...   \n",
       "...             ...                                                ...   \n",
       "0.0        Released                                                NaN   \n",
       "0.0        Released                                                NaN   \n",
       "0.0        Released                                                NaN   \n",
       "0.0        Released                                                NaN   \n",
       "0.0        Released                                                NaN   \n",
       "\n",
       "                            title  video vote_average vote_count certification  \n",
       "0                             NaN    NaN          NaN        NaN           NaN  \n",
       "tt0113026         The Fantasticks    0.0        5.500       22.0           NaN  \n",
       "tt0113092           For the Cause    0.0        5.100        8.0           NaN  \n",
       "tt0116391                    Gang    0.0        4.000        1.0           NaN  \n",
       "tt0118694    In the Mood for Love    0.0        8.100     2070.0            PG  \n",
       "...                           ...    ...          ...        ...           ...  \n",
       "0.0                         Ottam    0.0        0.000        0.0        unknow  \n",
       "0.0                     Manoharam    0.0        6.136       11.0        unknow  \n",
       "0.0                    No Apology    0.0        8.000        1.0        unknow  \n",
       "0.0        Life without Sara Amat    0.0        7.714        7.0        unknow  \n",
       "0.0          The Last White Witch    0.0        0.000        0.0        unknow  \n",
       "\n",
       "[79874 rows x 25 columns]"
      ]
     },
     "execution_count": 97,
     "metadata": {},
     "output_type": "execute_result"
    }
   ],
   "source": [
    "## Loading all files as df and appending to a list\n",
    "df_list = []\n",
    "for file in tmdb_files:\n",
    "    temp_df = pd.read_csv(file, index_col=0)\n",
    "    df_list.append(temp_df)\n",
    "    \n",
    "## Concatenating the list of dfs into 1 combined\n",
    "df_combined = pd.concat(df_list)\n",
    "df_combined\n",
    "\n"
   ]
  },
  {
   "cell_type": "markdown",
   "id": "14771089",
   "metadata": {},
   "source": [
    "# Save "
   ]
  },
  {
   "cell_type": "code",
   "execution_count": 98,
   "id": "55afe9f7",
   "metadata": {},
   "outputs": [],
   "source": [
    "## Saving the final combined dataframe\n",
    "final_fname ='Data/final_tmdb_data_combined.csv.gz'\n",
    "df_combined.to_csv(final_fname, compression='gzip', index=False)\n",
    "\n"
   ]
  },
  {
   "cell_type": "code",
   "execution_count": 101,
   "id": "7cd0c146",
   "metadata": {},
   "outputs": [
    {
     "data": {
      "text/html": [
       "<div>\n",
       "<style scoped>\n",
       "    .dataframe tbody tr th:only-of-type {\n",
       "        vertical-align: middle;\n",
       "    }\n",
       "\n",
       "    .dataframe tbody tr th {\n",
       "        vertical-align: top;\n",
       "    }\n",
       "\n",
       "    .dataframe thead th {\n",
       "        text-align: right;\n",
       "    }\n",
       "</style>\n",
       "<table border=\"1\" class=\"dataframe\">\n",
       "  <thead>\n",
       "    <tr style=\"text-align: right;\">\n",
       "      <th></th>\n",
       "      <th>adult</th>\n",
       "      <th>backdrop_path</th>\n",
       "      <th>belongs_to_collection</th>\n",
       "      <th>budget</th>\n",
       "      <th>genres</th>\n",
       "      <th>homepage</th>\n",
       "      <th>id</th>\n",
       "      <th>original_language</th>\n",
       "      <th>original_title</th>\n",
       "      <th>overview</th>\n",
       "      <th>...</th>\n",
       "      <th>revenue</th>\n",
       "      <th>runtime</th>\n",
       "      <th>spoken_languages</th>\n",
       "      <th>status</th>\n",
       "      <th>tagline</th>\n",
       "      <th>title</th>\n",
       "      <th>video</th>\n",
       "      <th>vote_average</th>\n",
       "      <th>vote_count</th>\n",
       "      <th>certification</th>\n",
       "    </tr>\n",
       "  </thead>\n",
       "  <tbody>\n",
       "    <tr>\n",
       "      <th>0</th>\n",
       "      <td>NaN</td>\n",
       "      <td>NaN</td>\n",
       "      <td>NaN</td>\n",
       "      <td>NaN</td>\n",
       "      <td>NaN</td>\n",
       "      <td>NaN</td>\n",
       "      <td>NaN</td>\n",
       "      <td>NaN</td>\n",
       "      <td>NaN</td>\n",
       "      <td>NaN</td>\n",
       "      <td>...</td>\n",
       "      <td>NaN</td>\n",
       "      <td>NaN</td>\n",
       "      <td>NaN</td>\n",
       "      <td>NaN</td>\n",
       "      <td>NaN</td>\n",
       "      <td>NaN</td>\n",
       "      <td>NaN</td>\n",
       "      <td>NaN</td>\n",
       "      <td>NaN</td>\n",
       "      <td>NaN</td>\n",
       "    </tr>\n",
       "    <tr>\n",
       "      <th>1</th>\n",
       "      <td>0.0</td>\n",
       "      <td>/vMFs7nw6P0bIV1jDsQpxAieAVnH.jpg</td>\n",
       "      <td>NaN</td>\n",
       "      <td>10000000.0</td>\n",
       "      <td>[{'id': 35, 'name': 'Comedy'}, {'id': 10402, '...</td>\n",
       "      <td>NaN</td>\n",
       "      <td>62127.0</td>\n",
       "      <td>en</td>\n",
       "      <td>The Fantasticks</td>\n",
       "      <td>Two rural teens sing and dance their way throu...</td>\n",
       "      <td>...</td>\n",
       "      <td>0.0</td>\n",
       "      <td>86.0</td>\n",
       "      <td>[{'english_name': 'English', 'iso_639_1': 'en'...</td>\n",
       "      <td>Released</td>\n",
       "      <td>Try to remember the first time magic happened</td>\n",
       "      <td>The Fantasticks</td>\n",
       "      <td>0.0</td>\n",
       "      <td>5.500</td>\n",
       "      <td>22.0</td>\n",
       "      <td>NaN</td>\n",
       "    </tr>\n",
       "    <tr>\n",
       "      <th>2</th>\n",
       "      <td>0.0</td>\n",
       "      <td>NaN</td>\n",
       "      <td>NaN</td>\n",
       "      <td>0.0</td>\n",
       "      <td>[{'id': 878, 'name': 'Science Fiction'}]</td>\n",
       "      <td>NaN</td>\n",
       "      <td>110977.0</td>\n",
       "      <td>en</td>\n",
       "      <td>For the Cause</td>\n",
       "      <td>Earth is in a state of constant war and two co...</td>\n",
       "      <td>...</td>\n",
       "      <td>0.0</td>\n",
       "      <td>100.0</td>\n",
       "      <td>[{'english_name': 'English', 'iso_639_1': 'en'...</td>\n",
       "      <td>Released</td>\n",
       "      <td>The ultimate showdown on a forbidden planet.</td>\n",
       "      <td>For the Cause</td>\n",
       "      <td>0.0</td>\n",
       "      <td>5.100</td>\n",
       "      <td>8.0</td>\n",
       "      <td>NaN</td>\n",
       "    </tr>\n",
       "    <tr>\n",
       "      <th>3</th>\n",
       "      <td>0.0</td>\n",
       "      <td>NaN</td>\n",
       "      <td>NaN</td>\n",
       "      <td>0.0</td>\n",
       "      <td>[{'id': 18, 'name': 'Drama'}, {'id': 28, 'name...</td>\n",
       "      <td>NaN</td>\n",
       "      <td>442869.0</td>\n",
       "      <td>hi</td>\n",
       "      <td>Gang</td>\n",
       "      <td>After falling prey to underworld, four friends...</td>\n",
       "      <td>...</td>\n",
       "      <td>0.0</td>\n",
       "      <td>152.0</td>\n",
       "      <td>[{'english_name': 'Hindi', 'iso_639_1': 'hi', ...</td>\n",
       "      <td>Released</td>\n",
       "      <td>NaN</td>\n",
       "      <td>Gang</td>\n",
       "      <td>0.0</td>\n",
       "      <td>4.000</td>\n",
       "      <td>1.0</td>\n",
       "      <td>NaN</td>\n",
       "    </tr>\n",
       "    <tr>\n",
       "      <th>4</th>\n",
       "      <td>0.0</td>\n",
       "      <td>/n4GJFGzsc7NinI1VeGDXIcQjtU2.jpg</td>\n",
       "      <td>NaN</td>\n",
       "      <td>150000.0</td>\n",
       "      <td>[{'id': 18, 'name': 'Drama'}, {'id': 10749, 'n...</td>\n",
       "      <td>NaN</td>\n",
       "      <td>843.0</td>\n",
       "      <td>cn</td>\n",
       "      <td>花樣年華</td>\n",
       "      <td>Hong Kong, 1962: Chow Mo-Wan and Su Li-Zhen mo...</td>\n",
       "      <td>...</td>\n",
       "      <td>12854953.0</td>\n",
       "      <td>99.0</td>\n",
       "      <td>[{'english_name': 'Cantonese', 'iso_639_1': 'c...</td>\n",
       "      <td>Released</td>\n",
       "      <td>Feel the heat, keep the feeling burning, let t...</td>\n",
       "      <td>In the Mood for Love</td>\n",
       "      <td>0.0</td>\n",
       "      <td>8.100</td>\n",
       "      <td>2070.0</td>\n",
       "      <td>PG</td>\n",
       "    </tr>\n",
       "    <tr>\n",
       "      <th>...</th>\n",
       "      <td>...</td>\n",
       "      <td>...</td>\n",
       "      <td>...</td>\n",
       "      <td>...</td>\n",
       "      <td>...</td>\n",
       "      <td>...</td>\n",
       "      <td>...</td>\n",
       "      <td>...</td>\n",
       "      <td>...</td>\n",
       "      <td>...</td>\n",
       "      <td>...</td>\n",
       "      <td>...</td>\n",
       "      <td>...</td>\n",
       "      <td>...</td>\n",
       "      <td>...</td>\n",
       "      <td>...</td>\n",
       "      <td>...</td>\n",
       "      <td>...</td>\n",
       "      <td>...</td>\n",
       "      <td>...</td>\n",
       "      <td>...</td>\n",
       "    </tr>\n",
       "    <tr>\n",
       "      <th>79869</th>\n",
       "      <td>NaN</td>\n",
       "      <td>NaN</td>\n",
       "      <td>NaN</td>\n",
       "      <td>0.0</td>\n",
       "      <td>[]</td>\n",
       "      <td>NaN</td>\n",
       "      <td>599083.0</td>\n",
       "      <td>ml</td>\n",
       "      <td>ഓട്ടം</td>\n",
       "      <td>Set in Trivandrum, the story of Ottam unfolds ...</td>\n",
       "      <td>...</td>\n",
       "      <td>0.0</td>\n",
       "      <td>120.0</td>\n",
       "      <td>[{'english_name': 'Malayalam', 'iso_639_1': 'm...</td>\n",
       "      <td>Released</td>\n",
       "      <td>NaN</td>\n",
       "      <td>Ottam</td>\n",
       "      <td>0.0</td>\n",
       "      <td>0.000</td>\n",
       "      <td>0.0</td>\n",
       "      <td>unknow</td>\n",
       "    </tr>\n",
       "    <tr>\n",
       "      <th>79870</th>\n",
       "      <td>NaN</td>\n",
       "      <td>/htoReVItKtolso5VJqFqJDBaOwm.jpg</td>\n",
       "      <td>NaN</td>\n",
       "      <td>0.0</td>\n",
       "      <td>[{'id': 35, 'name': 'Comedy'}, {'id': 18, 'nam...</td>\n",
       "      <td>NaN</td>\n",
       "      <td>635903.0</td>\n",
       "      <td>ml</td>\n",
       "      <td>മനോഹരം</td>\n",
       "      <td>Manoharan is a poster artist struggling to fin...</td>\n",
       "      <td>...</td>\n",
       "      <td>0.0</td>\n",
       "      <td>122.0</td>\n",
       "      <td>[{'english_name': 'Malayalam', 'iso_639_1': 'm...</td>\n",
       "      <td>Released</td>\n",
       "      <td>NaN</td>\n",
       "      <td>Manoharam</td>\n",
       "      <td>0.0</td>\n",
       "      <td>6.136</td>\n",
       "      <td>11.0</td>\n",
       "      <td>unknow</td>\n",
       "    </tr>\n",
       "    <tr>\n",
       "      <th>79871</th>\n",
       "      <td>NaN</td>\n",
       "      <td>/z6YpkQiWLnRKl5yQD9dSiPDFWN.jpg</td>\n",
       "      <td>NaN</td>\n",
       "      <td>0.0</td>\n",
       "      <td>[{'id': 18, 'name': 'Drama'}]</td>\n",
       "      <td>NaN</td>\n",
       "      <td>711261.0</td>\n",
       "      <td>en</td>\n",
       "      <td>No Apology</td>\n",
       "      <td>When a group of women struggle to deal with th...</td>\n",
       "      <td>...</td>\n",
       "      <td>0.0</td>\n",
       "      <td>102.0</td>\n",
       "      <td>[{'english_name': 'English', 'iso_639_1': 'en'...</td>\n",
       "      <td>Released</td>\n",
       "      <td>NaN</td>\n",
       "      <td>No Apology</td>\n",
       "      <td>0.0</td>\n",
       "      <td>8.000</td>\n",
       "      <td>1.0</td>\n",
       "      <td>unknow</td>\n",
       "    </tr>\n",
       "    <tr>\n",
       "      <th>79872</th>\n",
       "      <td>NaN</td>\n",
       "      <td>/tjHUeULyw2vtS1DXFp0OHfhUzRX.jpg</td>\n",
       "      <td>NaN</td>\n",
       "      <td>0.0</td>\n",
       "      <td>[{'id': 18, 'name': 'Drama'}, {'id': 10749, 'n...</td>\n",
       "      <td>NaN</td>\n",
       "      <td>598553.0</td>\n",
       "      <td>ca</td>\n",
       "      <td>La vida sense la Sara Amat</td>\n",
       "      <td>Pep, a 13-year-old boy, is in love with a girl...</td>\n",
       "      <td>...</td>\n",
       "      <td>0.0</td>\n",
       "      <td>74.0</td>\n",
       "      <td>[{'english_name': 'Catalan', 'iso_639_1': 'ca'...</td>\n",
       "      <td>Released</td>\n",
       "      <td>NaN</td>\n",
       "      <td>Life without Sara Amat</td>\n",
       "      <td>0.0</td>\n",
       "      <td>7.714</td>\n",
       "      <td>7.0</td>\n",
       "      <td>unknow</td>\n",
       "    </tr>\n",
       "    <tr>\n",
       "      <th>79873</th>\n",
       "      <td>NaN</td>\n",
       "      <td>NaN</td>\n",
       "      <td>NaN</td>\n",
       "      <td>0.0</td>\n",
       "      <td>[]</td>\n",
       "      <td>NaN</td>\n",
       "      <td>897433.0</td>\n",
       "      <td>en</td>\n",
       "      <td>The Last White Witch</td>\n",
       "      <td>One day, a charming and mystical girl, Fuka, a...</td>\n",
       "      <td>...</td>\n",
       "      <td>0.0</td>\n",
       "      <td>97.0</td>\n",
       "      <td>[]</td>\n",
       "      <td>Released</td>\n",
       "      <td>NaN</td>\n",
       "      <td>The Last White Witch</td>\n",
       "      <td>0.0</td>\n",
       "      <td>0.000</td>\n",
       "      <td>0.0</td>\n",
       "      <td>unknow</td>\n",
       "    </tr>\n",
       "  </tbody>\n",
       "</table>\n",
       "<p>79874 rows × 25 columns</p>\n",
       "</div>"
      ],
      "text/plain": [
       "       adult                     backdrop_path belongs_to_collection  \\\n",
       "0        NaN                               NaN                   NaN   \n",
       "1        0.0  /vMFs7nw6P0bIV1jDsQpxAieAVnH.jpg                   NaN   \n",
       "2        0.0                               NaN                   NaN   \n",
       "3        0.0                               NaN                   NaN   \n",
       "4        0.0  /n4GJFGzsc7NinI1VeGDXIcQjtU2.jpg                   NaN   \n",
       "...      ...                               ...                   ...   \n",
       "79869    NaN                               NaN                   NaN   \n",
       "79870    NaN  /htoReVItKtolso5VJqFqJDBaOwm.jpg                   NaN   \n",
       "79871    NaN   /z6YpkQiWLnRKl5yQD9dSiPDFWN.jpg                   NaN   \n",
       "79872    NaN  /tjHUeULyw2vtS1DXFp0OHfhUzRX.jpg                   NaN   \n",
       "79873    NaN                               NaN                   NaN   \n",
       "\n",
       "           budget                                             genres homepage  \\\n",
       "0             NaN                                                NaN      NaN   \n",
       "1      10000000.0  [{'id': 35, 'name': 'Comedy'}, {'id': 10402, '...      NaN   \n",
       "2             0.0           [{'id': 878, 'name': 'Science Fiction'}]      NaN   \n",
       "3             0.0  [{'id': 18, 'name': 'Drama'}, {'id': 28, 'name...      NaN   \n",
       "4        150000.0  [{'id': 18, 'name': 'Drama'}, {'id': 10749, 'n...      NaN   \n",
       "...           ...                                                ...      ...   \n",
       "79869         0.0                                                 []      NaN   \n",
       "79870         0.0  [{'id': 35, 'name': 'Comedy'}, {'id': 18, 'nam...      NaN   \n",
       "79871         0.0                      [{'id': 18, 'name': 'Drama'}]      NaN   \n",
       "79872         0.0  [{'id': 18, 'name': 'Drama'}, {'id': 10749, 'n...      NaN   \n",
       "79873         0.0                                                 []      NaN   \n",
       "\n",
       "             id original_language              original_title  \\\n",
       "0           NaN               NaN                         NaN   \n",
       "1       62127.0                en             The Fantasticks   \n",
       "2      110977.0                en               For the Cause   \n",
       "3      442869.0                hi                        Gang   \n",
       "4         843.0                cn                        花樣年華   \n",
       "...         ...               ...                         ...   \n",
       "79869  599083.0                ml                       ഓട്ടം   \n",
       "79870  635903.0                ml                      മനോഹരം   \n",
       "79871  711261.0                en                  No Apology   \n",
       "79872  598553.0                ca  La vida sense la Sara Amat   \n",
       "79873  897433.0                en        The Last White Witch   \n",
       "\n",
       "                                                overview  ...     revenue  \\\n",
       "0                                                    NaN  ...         NaN   \n",
       "1      Two rural teens sing and dance their way throu...  ...         0.0   \n",
       "2      Earth is in a state of constant war and two co...  ...         0.0   \n",
       "3      After falling prey to underworld, four friends...  ...         0.0   \n",
       "4      Hong Kong, 1962: Chow Mo-Wan and Su Li-Zhen mo...  ...  12854953.0   \n",
       "...                                                  ...  ...         ...   \n",
       "79869  Set in Trivandrum, the story of Ottam unfolds ...  ...         0.0   \n",
       "79870  Manoharan is a poster artist struggling to fin...  ...         0.0   \n",
       "79871  When a group of women struggle to deal with th...  ...         0.0   \n",
       "79872  Pep, a 13-year-old boy, is in love with a girl...  ...         0.0   \n",
       "79873  One day, a charming and mystical girl, Fuka, a...  ...         0.0   \n",
       "\n",
       "      runtime                                   spoken_languages    status  \\\n",
       "0         NaN                                                NaN       NaN   \n",
       "1        86.0  [{'english_name': 'English', 'iso_639_1': 'en'...  Released   \n",
       "2       100.0  [{'english_name': 'English', 'iso_639_1': 'en'...  Released   \n",
       "3       152.0  [{'english_name': 'Hindi', 'iso_639_1': 'hi', ...  Released   \n",
       "4        99.0  [{'english_name': 'Cantonese', 'iso_639_1': 'c...  Released   \n",
       "...       ...                                                ...       ...   \n",
       "79869   120.0  [{'english_name': 'Malayalam', 'iso_639_1': 'm...  Released   \n",
       "79870   122.0  [{'english_name': 'Malayalam', 'iso_639_1': 'm...  Released   \n",
       "79871   102.0  [{'english_name': 'English', 'iso_639_1': 'en'...  Released   \n",
       "79872    74.0  [{'english_name': 'Catalan', 'iso_639_1': 'ca'...  Released   \n",
       "79873    97.0                                                 []  Released   \n",
       "\n",
       "                                                 tagline  \\\n",
       "0                                                    NaN   \n",
       "1          Try to remember the first time magic happened   \n",
       "2           The ultimate showdown on a forbidden planet.   \n",
       "3                                                    NaN   \n",
       "4      Feel the heat, keep the feeling burning, let t...   \n",
       "...                                                  ...   \n",
       "79869                                                NaN   \n",
       "79870                                                NaN   \n",
       "79871                                                NaN   \n",
       "79872                                                NaN   \n",
       "79873                                                NaN   \n",
       "\n",
       "                        title  video vote_average vote_count certification  \n",
       "0                         NaN    NaN          NaN        NaN           NaN  \n",
       "1             The Fantasticks    0.0        5.500       22.0           NaN  \n",
       "2               For the Cause    0.0        5.100        8.0           NaN  \n",
       "3                        Gang    0.0        4.000        1.0           NaN  \n",
       "4        In the Mood for Love    0.0        8.100     2070.0            PG  \n",
       "...                       ...    ...          ...        ...           ...  \n",
       "79869                   Ottam    0.0        0.000        0.0        unknow  \n",
       "79870               Manoharam    0.0        6.136       11.0        unknow  \n",
       "79871              No Apology    0.0        8.000        1.0        unknow  \n",
       "79872  Life without Sara Amat    0.0        7.714        7.0        unknow  \n",
       "79873    The Last White Witch    0.0        0.000        0.0        unknow  \n",
       "\n",
       "[79874 rows x 25 columns]"
      ]
     },
     "execution_count": 101,
     "metadata": {},
     "output_type": "execute_result"
    }
   ],
   "source": [
    "df_combined = pd.read_csv(final_fname)\n",
    "df_combined\n",
    "\n"
   ]
  },
  {
   "cell_type": "markdown",
   "id": "76568369",
   "metadata": {},
   "source": [
    "### Explore data "
   ]
  },
  {
   "cell_type": "code",
   "execution_count": 102,
   "id": "27a43918",
   "metadata": {},
   "outputs": [
    {
     "data": {
      "text/plain": [
       "adult                    39943\n",
       "backdrop_path            28298\n",
       "belongs_to_collection    74672\n",
       "budget                      12\n",
       "genres                      12\n",
       "homepage                 59488\n",
       "id                          12\n",
       "original_language           12\n",
       "original_title              12\n",
       "overview                  1788\n",
       "popularity                  12\n",
       "poster_path               6310\n",
       "production_companies        12\n",
       "production_countries        12\n",
       "release_date              1120\n",
       "revenue                     12\n",
       "runtime                     12\n",
       "spoken_languages            12\n",
       "status                      12\n",
       "tagline                  50646\n",
       "title                       12\n",
       "video                       12\n",
       "vote_average                12\n",
       "vote_count                  12\n",
       "certification            30874\n",
       "dtype: int64"
      ]
     },
     "execution_count": 102,
     "metadata": {},
     "output_type": "execute_result"
    }
   ],
   "source": [
    "# check missing values\n",
    "df_combined.isna().sum()"
   ]
  },
  {
   "cell_type": "code",
   "execution_count": 103,
   "id": "e81f3116",
   "metadata": {},
   "outputs": [
    {
     "data": {
      "text/plain": [
       "11"
      ]
     },
     "execution_count": 103,
     "metadata": {},
     "output_type": "execute_result"
    }
   ],
   "source": [
    "# check duplicates \n",
    "df_combined.duplicated().sum()"
   ]
  },
  {
   "cell_type": "code",
   "execution_count": 104,
   "id": "4a09a0e8",
   "metadata": {},
   "outputs": [
    {
     "data": {
      "text/plain": [
       "0"
      ]
     },
     "execution_count": 104,
     "metadata": {},
     "output_type": "execute_result"
    }
   ],
   "source": [
    "# drop duplicates\n",
    "df_combined = df_combined.drop_duplicates()\n",
    "# check again \n",
    "df_combined.duplicated().sum()"
   ]
  },
  {
   "cell_type": "markdown",
   "id": "2288ff7c",
   "metadata": {},
   "source": [
    "# Hypothesis Testing"
   ]
  },
  {
   "cell_type": "markdown",
   "id": "3f1bddef",
   "metadata": {},
   "source": [
    "## The stakeholder's first question is: does the MPAA rating of a movie (G/PG/PG-13/R) affect how much revenue the movie generates?"
   ]
  },
  {
   "cell_type": "code",
   "execution_count": 105,
   "id": "99577287",
   "metadata": {},
   "outputs": [
    {
     "name": "stdout",
     "output_type": "stream",
     "text": [
      "there are 30863 movies with missing certification\n"
     ]
    }
   ],
   "source": [
    "# checking missing values in certification column\n",
    "nan_certification = df_combined['certification'].isna().sum()\n",
    "print(f'there are {nan_certification} movies with missing certification')"
   ]
  },
  {
   "cell_type": "code",
   "execution_count": 106,
   "id": "3e9578c0",
   "metadata": {},
   "outputs": [
    {
     "name": "stderr",
     "output_type": "stream",
     "text": [
      "C:\\Users\\Ernesto\\AppData\\Local\\Temp\\ipykernel_12460\\3013348432.py:2: SettingWithCopyWarning: \n",
      "A value is trying to be set on a copy of a slice from a DataFrame.\n",
      "Try using .loc[row_indexer,col_indexer] = value instead\n",
      "\n",
      "See the caveats in the documentation: https://pandas.pydata.org/pandas-docs/stable/user_guide/indexing.html#returning-a-view-versus-a-copy\n",
      "  df_combined['certification'] = df_combined['certification'].fillna('unknow')\n"
     ]
    }
   ],
   "source": [
    "# replace nan per unknow\n",
    "df_combined['certification'] = df_combined['certification'].fillna('unknow')"
   ]
  },
  {
   "cell_type": "code",
   "execution_count": 107,
   "id": "d61a106e",
   "metadata": {},
   "outputs": [
    {
     "name": "stdout",
     "output_type": "stream",
     "text": [
      "there are 0 movies with missing certification\n"
     ]
    }
   ],
   "source": [
    "# check missing values again\n",
    "nan_certification = df_combined['certification'].isna().sum()\n",
    "print(f'there are {nan_certification} movies with missing certification')"
   ]
  },
  {
   "cell_type": "code",
   "execution_count": 108,
   "id": "1cfbe504",
   "metadata": {},
   "outputs": [
    {
     "data": {
      "text/plain": [
       "unknow     61726\n",
       "R           7103\n",
       "NR          4656\n",
       "PG-13       3859\n",
       "PG          1710\n",
       "G            584\n",
       "NC-17        210\n",
       "Unrated       10\n",
       "10             2\n",
       "-              1\n",
       "R              1\n",
       "PG-13          1\n",
       "Name: certification, dtype: int64"
      ]
     },
     "execution_count": 108,
     "metadata": {},
     "output_type": "execute_result"
    }
   ],
   "source": [
    "df_combined['certification'].value_counts()"
   ]
  },
  {
   "cell_type": "code",
   "execution_count": 109,
   "id": "51e6af1f",
   "metadata": {},
   "outputs": [
    {
     "data": {
      "text/plain": [
       "array(['unknow', 'PG', 'R', 'G', 'NR', 'PG-13', 'NC-17', 'Unrated', '-',\n",
       "       'R ', 'PG-13 ', '10'], dtype=object)"
      ]
     },
     "execution_count": 109,
     "metadata": {},
     "output_type": "execute_result"
    }
   ],
   "source": [
    "# there are 2 R and PG-13, let's check what is the problem \n",
    "df_combined['certification'].unique()"
   ]
  },
  {
   "cell_type": "code",
   "execution_count": 110,
   "id": "b31212b2",
   "metadata": {},
   "outputs": [
    {
     "name": "stderr",
     "output_type": "stream",
     "text": [
      "C:\\Users\\Ernesto\\AppData\\Local\\Temp\\ipykernel_12460\\2125819612.py:2: SettingWithCopyWarning: \n",
      "A value is trying to be set on a copy of a slice from a DataFrame.\n",
      "Try using .loc[row_indexer,col_indexer] = value instead\n",
      "\n",
      "See the caveats in the documentation: https://pandas.pydata.org/pandas-docs/stable/user_guide/indexing.html#returning-a-view-versus-a-copy\n",
      "  df_combined['certification'] = df_combined['certification'].replace({'-': 'unknow', 'PG-13 ': 'PG-13', 'R ' : 'R'})\n"
     ]
    },
    {
     "data": {
      "text/plain": [
       "unknow     61727\n",
       "R           7104\n",
       "NR          4656\n",
       "PG-13       3860\n",
       "PG          1710\n",
       "G            584\n",
       "NC-17        210\n",
       "Unrated       10\n",
       "10             2\n",
       "Name: certification, dtype: int64"
      ]
     },
     "execution_count": 110,
     "metadata": {},
     "output_type": "execute_result"
    }
   ],
   "source": [
    "# replace - to unknow and remove white space\n",
    "df_combined['certification'] = df_combined['certification'].replace({'-': 'unknow', 'PG-13 ': 'PG-13', 'R ' : 'R'})\n",
    "df_combined['certification'].value_counts()"
   ]
  },
  {
   "cell_type": "code",
   "execution_count": 111,
   "id": "b9096513",
   "metadata": {},
   "outputs": [
    {
     "name": "stdout",
     "output_type": "stream",
     "text": [
      "there are 1 movies with missing revenue\n"
     ]
    }
   ],
   "source": [
    "# checking missing values in revenue column\n",
    "nan_revenue = df_combined['revenue'].isna().sum()\n",
    "print(f'there are {nan_revenue} movies with missing revenue')"
   ]
  },
  {
   "cell_type": "code",
   "execution_count": 112,
   "id": "e3148231",
   "metadata": {},
   "outputs": [],
   "source": [
    "# drop row with missing values \n",
    "df_combined = df_combined.dropna(subset=['revenue'])"
   ]
  },
  {
   "cell_type": "code",
   "execution_count": 113,
   "id": "66a8ea5d",
   "metadata": {},
   "outputs": [
    {
     "name": "stdout",
     "output_type": "stream",
     "text": [
      "there are 0 movies with missing certification\n"
     ]
    }
   ],
   "source": [
    "# checking missing values in revenue column\n",
    "nan_revenue = df_combined['revenue'].isna().sum()\n",
    "print(f'there are {nan_revenue} movies with missing revenue')"
   ]
  },
  {
   "cell_type": "code",
   "execution_count": 87,
   "id": "e83e7e87",
   "metadata": {},
   "outputs": [
    {
     "data": {
      "text/plain": [
       "0.0           35147\n",
       "10000.0          25\n",
       "100000.0         13\n",
       "2000000.0        12\n",
       "500.0             9\n",
       "              ...  \n",
       "10703234.0        1\n",
       "885000.0          1\n",
       "62000.0           1\n",
       "14353.0           1\n",
       "42200.0           1\n",
       "Name: revenue, Length: 4481, dtype: int64"
      ]
     },
     "execution_count": 87,
     "metadata": {},
     "output_type": "execute_result"
    }
   ],
   "source": [
    "df_combined['revenue'].value_counts()"
   ]
  },
  {
   "cell_type": "markdown",
   "id": "dbb3a4cb",
   "metadata": {},
   "source": [
    "### 1. State the Hypothesis & Null Hypothesis"
   ]
  },
  {
   "cell_type": "markdown",
   "id": "286bea4c",
   "metadata": {},
   "source": [
    " H0 (Null Hypothesis): no difference in revenue amount between all MPAA rating.\n",
    " \n",
    " \n",
    " HA(Alternative Hypothesis): there is a significant difference in revenue amount between ratings."
   ]
  },
  {
   "cell_type": "markdown",
   "id": "eea68350",
   "metadata": {},
   "source": [
    "### 2. Determine the correct test to perform.\n",
    "\n",
    "Type of Data? numeric\n",
    "\n",
    "How many groups/samples?  more than two\n",
    "\n",
    "Therefore, which test is appropriate? ANOVA"
   ]
  },
  {
   "cell_type": "code",
   "execution_count": 114,
   "id": "7d845ac1",
   "metadata": {},
   "outputs": [
    {
     "data": {
      "text/plain": [
       "array(['unknow', 'PG', 'R', 'G', 'NR', 'PG-13', 'NC-17', 'Unrated', '10'],\n",
       "      dtype=object)"
      ]
     },
     "execution_count": 114,
     "metadata": {},
     "output_type": "execute_result"
    }
   ],
   "source": [
    "rating_names = df_combined['certification'].unique()\n",
    "rating_names"
   ]
  },
  {
   "cell_type": "code",
   "execution_count": 115,
   "id": "9eb6be08",
   "metadata": {},
   "outputs": [],
   "source": [
    "## Create a dictionary with each group as key and funded_amount as values\n",
    "groups = {}\n",
    "for rating in rating_names:\n",
    "    temp = df_combined.loc[df_combined['certification'] == rating, 'revenue']\n",
    "    groups[rating] = temp"
   ]
  },
  {
   "cell_type": "code",
   "execution_count": 116,
   "id": "43d778de",
   "metadata": {},
   "outputs": [
    {
     "data": {
      "text/plain": [
       "4         12854953.0\n",
       "19        36754634.0\n",
       "22        36609995.0\n",
       "27       354248063.0\n",
       "28        35134820.0\n",
       "            ...     \n",
       "79538            0.0\n",
       "79672            0.0\n",
       "79791            0.0\n",
       "79813            0.0\n",
       "79852            0.0\n",
       "Name: revenue, Length: 1710, dtype: float64"
      ]
     },
     "execution_count": 116,
     "metadata": {},
     "output_type": "execute_result"
    }
   ],
   "source": [
    "## check one of the sectors in the dict\n",
    "groups['PG']"
   ]
  },
  {
   "cell_type": "markdown",
   "id": "7972871d",
   "metadata": {},
   "source": [
    "### 3. Testing Assumptions"
   ]
  },
  {
   "cell_type": "markdown",
   "id": "c9c68eec",
   "metadata": {},
   "source": [
    "#### No significant outliers"
   ]
  },
  {
   "cell_type": "code",
   "execution_count": 119,
   "id": "1b2f4c56",
   "metadata": {},
   "outputs": [
    {
     "name": "stdout",
     "output_type": "stream",
     "text": [
      "^C\n",
      "Note: you may need to restart the kernel to use updated packages.\n"
     ]
    }
   ],
   "source": [
    "pip install autoviz"
   ]
  },
  {
   "cell_type": "code",
   "execution_count": 120,
   "id": "58c1e3d6",
   "metadata": {},
   "outputs": [
    {
     "ename": "ModuleNotFoundError",
     "evalue": "No module named 'autoviz'",
     "output_type": "error",
     "traceback": [
      "\u001b[1;31m---------------------------------------------------------------------------\u001b[0m",
      "\u001b[1;31mModuleNotFoundError\u001b[0m                       Traceback (most recent call last)",
      "Cell \u001b[1;32mIn [120], line 1\u001b[0m\n\u001b[1;32m----> 1\u001b[0m \u001b[38;5;28;01mfrom\u001b[39;00m \u001b[38;5;21;01mautoviz\u001b[39;00m\u001b[38;5;21;01m.\u001b[39;00m\u001b[38;5;21;01mAutoViz_Class\u001b[39;00m \u001b[38;5;28;01mimport\u001b[39;00m AutoViz_Class\n",
      "\u001b[1;31mModuleNotFoundError\u001b[0m: No module named 'autoviz'"
     ]
    }
   ],
   "source": [
    "from autoviz.AutoViz_Class import AutoViz_Class"
   ]
  },
  {
   "cell_type": "code",
   "execution_count": null,
   "id": "4250460f",
   "metadata": {},
   "outputs": [],
   "source": [
    "AV = AutoViz_Class()\n",
    "%matplotlib inline\n",
    "_ = AV.AutoViz(df_combined)"
   ]
  },
  {
   "cell_type": "code",
   "execution_count": null,
   "id": "c1f4cd8f",
   "metadata": {},
   "outputs": [],
   "source": []
  }
 ],
 "metadata": {
  "kernelspec": {
   "display_name": "Python (dojo-env)",
   "language": "python",
   "name": "dojo-env"
  },
  "language_info": {
   "codemirror_mode": {
    "name": "ipython",
    "version": 3
   },
   "file_extension": ".py",
   "mimetype": "text/x-python",
   "name": "python",
   "nbconvert_exporter": "python",
   "pygments_lexer": "ipython3",
   "version": "3.9.15"
  },
  "toc": {
   "base_numbering": 1,
   "nav_menu": {},
   "number_sections": false,
   "sideBar": true,
   "skip_h1_title": false,
   "title_cell": "Table of Contents",
   "title_sidebar": "Contents",
   "toc_cell": false,
   "toc_position": {},
   "toc_section_display": true,
   "toc_window_display": true
  }
 },
 "nbformat": 4,
 "nbformat_minor": 5
}
